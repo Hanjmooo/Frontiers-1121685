{
 "cells": [
  {
   "cell_type": "code",
   "execution_count": 1,
   "metadata": {
    "ExecuteTime": {
     "end_time": "2021-03-08T08:32:28.334537Z",
     "start_time": "2021-03-08T08:32:22.297082Z"
    },
    "scrolled": true
   },
   "outputs": [],
   "source": [
    "import SimpleITK as sitk\n",
    "import pandas as pd\n",
    "import numpy as np\n",
    "import glob\n",
    "import os\n",
    "import radiomics\n",
    "from radiomics import featureextractor, getTestCase"
   ]
  },
  {
   "cell_type": "code",
   "execution_count": 3,
   "metadata": {
    "ExecuteTime": {
     "end_time": "2021-03-08T08:32:30.237437Z",
     "start_time": "2021-03-08T08:32:30.175392Z"
    }
   },
   "outputs": [],
   "source": [
    "extractor = featureextractor.RadiomicsFeatureExtractor('exampleCT.yaml')"
   ]
  },
  {
   "cell_type": "code",
   "execution_count": 3,
   "metadata": {
    "ExecuteTime": {
     "end_time": "2021-03-08T09:00:24.065894Z",
     "start_time": "2021-03-08T08:56:27.815481Z"
    },
    "scrolled": true
   },
   "outputs": [
    {
     "name": "stdout",
     "output_type": "stream",
     "text": [
      "0 F:\\Renal\\ccRCC\\17010367\\main images\\17010367-vp.nii.gz\n",
      "F:\\Renal\\ccRCC\\17010367\\segmentation images\\17010367-vp.nii.gz\n",
      "1 F:\\Renal\\ccRCC\\17026635\\main images\\17026635-vp.nii.gz\n",
      "F:\\Renal\\ccRCC\\17026635\\segmentation images\\17026635-vp.nii.gz\n",
      "2 F:\\Renal\\ccRCC\\17033435\\main images\\17033435-vp.nii.gz\n",
      "F:\\Renal\\ccRCC\\17033435\\segmentation images\\17033435-vp.nii.gz\n",
      "3 F:\\Renal\\ccRCC\\17034204\\main images\\17034204-vp.nii.gz\n",
      "F:\\Renal\\ccRCC\\17034204\\segmentation images\\17034204-vp.nii.gz\n",
      "4 F:\\Renal\\ccRCC\\17058912\\main images\\17058912-vp.nii.gz\n",
      "F:\\Renal\\ccRCC\\17058912\\segmentation images\\17058912-vp.nii.gz\n",
      "5 F:\\Renal\\ccRCC\\17072378\\main images\\17072378-vp.nii.gz\n",
      "F:\\Renal\\ccRCC\\17072378\\segmentation images\\17072378-vp.nii.gz\n",
      "6 F:\\Renal\\ccRCC\\17074081\\main images\\17074081-vp.nii.gz\n",
      "F:\\Renal\\ccRCC\\17074081\\segmentation images\\17074081-vp.nii.gz\n",
      "7 F:\\Renal\\ccRCC\\17110417\\main images\\17110417-vp.nii.gz\n",
      "F:\\Renal\\ccRCC\\17110417\\segmentation images\\17110417-vp.nii.gz\n",
      "8 F:\\Renal\\ccRCC\\17122220\\main images\\17122220-vp.nii.gz\n",
      "F:\\Renal\\ccRCC\\17122220\\segmentation images\\17122220-vp.nii.gz\n",
      "9 F:\\Renal\\ccRCC\\17126726\\main images\\17126726-vp.nii.gz\n",
      "F:\\Renal\\ccRCC\\17126726\\segmentation images\\17126726-vp.nii.gz\n",
      "10 F:\\Renal\\ccRCC\\17129293\\main images\\17129293-vp.nii.gz\n",
      "F:\\Renal\\ccRCC\\17129293\\segmentation images\\17129293-vp.nii.gz\n",
      "11 F:\\Renal\\ccRCC\\17130973\\main images\\17130973-vp.nii.gz\n",
      "F:\\Renal\\ccRCC\\17130973\\segmentation images\\17130973-vp.nii.gz\n",
      "12 F:\\Renal\\ccRCC\\17132889\\main images\\17132889-vp.nii.gz\n",
      "F:\\Renal\\ccRCC\\17132889\\segmentation images\\17132889-vp.nii.gz\n",
      "13 F:\\Renal\\ccRCC\\17139033\\main images\\17139033-vp.nii.gz\n",
      "F:\\Renal\\ccRCC\\17139033\\segmentation images\\17139033-vp.nii.gz\n",
      "14 F:\\Renal\\ccRCC\\17139920\\main images\\17139920-vp.nii.gz\n",
      "F:\\Renal\\ccRCC\\17139920\\segmentation images\\17139920-vp.nii.gz\n",
      "15 F:\\Renal\\ccRCC\\17146972\\main images\\17146972-vp.nii.gz\n",
      "F:\\Renal\\ccRCC\\17146972\\segmentation images\\17146972-vp.nii.gz\n",
      "16 F:\\Renal\\ccRCC\\17155628\\main images\\17155628-vp.nii.gz\n",
      "F:\\Renal\\ccRCC\\17155628\\segmentation images\\17155628-vp.nii.gz\n",
      "17 F:\\Renal\\ccRCC\\17157333\\main images\\17157333-vp.nii.gz\n",
      "F:\\Renal\\ccRCC\\17157333\\segmentation images\\17157333-vp.nii.gz\n",
      "18 F:\\Renal\\ccRCC\\18001108\\main images\\18001108-vp.nii.gz\n",
      "F:\\Renal\\ccRCC\\18001108\\segmentation images\\18001108-vp.nii.gz\n",
      "19 F:\\Renal\\ccRCC\\18015240\\main images\\18015240-vp.nii.gz\n",
      "F:\\Renal\\ccRCC\\18015240\\segmentation images\\18015240-vp.nii.gz\n",
      "20 F:\\Renal\\ccRCC\\18018963\\main images\\18018963-vp.nii.gz\n",
      "F:\\Renal\\ccRCC\\18018963\\segmentation images\\18018963-vp.nii.gz\n",
      "21 F:\\Renal\\ccRCC\\18019511\\main images\\18019511-vp.nii.gz\n",
      "F:\\Renal\\ccRCC\\18019511\\segmentation images\\18019511-vp.nii.gz\n",
      "22 F:\\Renal\\ccRCC\\18028697\\main images\\18028697-vp.nii.gz\n",
      "F:\\Renal\\ccRCC\\18028697\\segmentation images\\18028697-vp.nii.gz\n",
      "23 F:\\Renal\\ccRCC\\18030193\\main images\\18030193-vp.nii.gz\n",
      "F:\\Renal\\ccRCC\\18030193\\segmentation images\\18030193-vp.nii.gz\n",
      "24 F:\\Renal\\ccRCC\\18031852\\main images\\18031852-vp.nii.gz\n",
      "F:\\Renal\\ccRCC\\18031852\\segmentation images\\18031852-vp.nii.gz\n",
      "25 F:\\Renal\\ccRCC\\18034166\\main images\\18034166-vp.nii.gz\n",
      "F:\\Renal\\ccRCC\\18034166\\segmentation images\\18034166-vp.nii.gz\n",
      "26 F:\\Renal\\ccRCC\\18037802\\main images\\18037802-vp.nii.gz\n",
      "F:\\Renal\\ccRCC\\18037802\\segmentation images\\18037802-vp.nii.gz\n",
      "27 F:\\Renal\\ccRCC\\18040324\\main images\\18040324-vp.nii.gz\n",
      "F:\\Renal\\ccRCC\\18040324\\segmentation images\\18040324-vp.nii.gz\n",
      "28 F:\\Renal\\ccRCC\\18042957\\main images\\18042957-vp.nii.gz\n",
      "F:\\Renal\\ccRCC\\18042957\\segmentation images\\18042957-vp.nii.gz\n",
      "29 F:\\Renal\\ccRCC\\18044414\\main images\\18044414-vp.nii.gz\n",
      "F:\\Renal\\ccRCC\\18044414\\segmentation images\\18044414-vp.nii.gz\n",
      "30 F:\\Renal\\ccRCC\\18051520\\main images\\18051520-vp.nii.gz\n",
      "F:\\Renal\\ccRCC\\18051520\\segmentation images\\18051520-vp.nii.gz\n",
      "31 F:\\Renal\\ccRCC\\18054823\\main images\\18054823-vp.nii.gz\n",
      "F:\\Renal\\ccRCC\\18054823\\segmentation images\\18054823-vp.nii.gz\n",
      "32 F:\\Renal\\ccRCC\\18060105\\main images\\18060105-vp.nii.gz\n",
      "F:\\Renal\\ccRCC\\18060105\\segmentation images\\18060105-vp.nii.gz\n",
      "33 F:\\Renal\\ccRCC\\18067906\\main images\\18067906-vp.nii.gz\n",
      "F:\\Renal\\ccRCC\\18067906\\segmentation images\\18067906-vp.nii.gz\n",
      "34 F:\\Renal\\ccRCC\\18071155\\main images\\18071155-vp.nii.gz\n",
      "F:\\Renal\\ccRCC\\18071155\\segmentation images\\18071155-vp.nii.gz\n",
      "35 F:\\Renal\\ccRCC\\18071950\\main images\\18071950-vp.nii.gz\n",
      "F:\\Renal\\ccRCC\\18071950\\segmentation images\\18071950-vp.nii.gz\n",
      "36 F:\\Renal\\ccRCC\\18078244\\main images\\18078244-vp.nii.gz\n",
      "F:\\Renal\\ccRCC\\18078244\\segmentation images\\18078244-vp.nii.gz\n",
      "37 F:\\Renal\\ccRCC\\18078603\\main images\\18078603-vp.nii.gz\n",
      "F:\\Renal\\ccRCC\\18078603\\segmentation images\\18078603-vp.nii.gz\n",
      "38 F:\\Renal\\ccRCC\\18079842\\main images\\18079842-vp.nii.gz\n",
      "F:\\Renal\\ccRCC\\18079842\\segmentation images\\18079842-vp.nii.gz\n",
      "39 F:\\Renal\\ccRCC\\18080034\\main images\\18080034-vp.nii.gz\n",
      "F:\\Renal\\ccRCC\\18080034\\segmentation images\\18080034-vp.nii.gz\n",
      "40 F:\\Renal\\ccRCC\\18082685\\main images\\18082685-vp.nii.gz\n",
      "F:\\Renal\\ccRCC\\18082685\\segmentation images\\18082685-vp.nii.gz\n",
      "41 F:\\Renal\\ccRCC\\18087249\\main images\\18087249-vp.nii.gz\n",
      "F:\\Renal\\ccRCC\\18087249\\segmentation images\\18087249-vp.nii.gz\n",
      "42 F:\\Renal\\ccRCC\\18097211\\main images\\18097211-vp.nii.gz\n",
      "F:\\Renal\\ccRCC\\18097211\\segmentation images\\18097211-vp.nii.gz\n",
      "43 F:\\Renal\\ccRCC\\18117388\\main images\\18117388-vp.nii.gz\n",
      "F:\\Renal\\ccRCC\\18117388\\segmentation images\\18117388-vp.nii.gz\n",
      "44 F:\\Renal\\ccRCC\\18118034\\main images\\18118034-vp.nii.gz\n",
      "F:\\Renal\\ccRCC\\18118034\\segmentation images\\18118034-vp.nii.gz\n",
      "45 F:\\Renal\\ccRCC\\18120037\\main images\\18120037-vp.nii.gz\n",
      "F:\\Renal\\ccRCC\\18120037\\segmentation images\\18120037-vp.nii.gz\n",
      "46 F:\\Renal\\ccRCC\\18122856\\main images\\18122856-vp.nii.gz\n",
      "F:\\Renal\\ccRCC\\18122856\\segmentation images\\18122856-vp.nii.gz\n",
      "47 F:\\Renal\\ccRCC\\18127800\\main images\\18127800-vp.nii.gz\n",
      "F:\\Renal\\ccRCC\\18127800\\segmentation images\\18127800-vp.nii.gz\n",
      "48 F:\\Renal\\ccRCC\\18139455\\main images\\18139455-vp.nii.gz\n",
      "F:\\Renal\\ccRCC\\18139455\\segmentation images\\18139455-vp.nii.gz\n",
      "49 F:\\Renal\\ccRCC\\18139868\\main images\\18139868-vp.nii.gz\n",
      "F:\\Renal\\ccRCC\\18139868\\segmentation images\\18139868-vp.nii.gz\n",
      "50 F:\\Renal\\ccRCC\\18143558\\main images\\18143558-vp.nii.gz\n",
      "F:\\Renal\\ccRCC\\18143558\\segmentation images\\18143558-vp.nii.gz\n"
     ]
    }
   ],
   "source": [
    "features = []\n",
    "filePath = 'F:\\Renal\\ccRCC'\n",
    "num=os.listdir(filePath)\n",
    "#file=['-ap.nii.gz','-dp.nii.gz','-vp.nii.gz']\n",
    "for i,filename in enumerate(num):\n",
    "#for i in (file):\n",
    "    img_path=os.path.join('F:\\Renal\\ccRCC',filename,'main images',filename+'-vp.nii.gz')\n",
    "    seg_path=os.path.join('F:\\Renal\\ccRCC',filename,'segmentation images',filename+'-vp.nii.gz')\n",
    "    print(i,img_path)\n",
    "    print(seg_path)\n",
    "    img = sitk.ReadImage(img_path)\n",
    "    seg = sitk.ReadImage(seg_path)\n",
    "    result = extractor.execute(img, seg)\n",
    "    features.append(result)"
   ]
  },
  {
   "cell_type": "code",
   "execution_count": 4,
   "metadata": {
    "ExecuteTime": {
     "end_time": "2021-03-08T09:04:01.629229Z",
     "start_time": "2021-03-08T09:04:01.625237Z"
    }
   },
   "outputs": [
    {
     "data": {
      "text/plain": [
       "51"
      ]
     },
     "execution_count": 4,
     "metadata": {},
     "output_type": "execute_result"
    }
   ],
   "source": [
    "len(features)"
   ]
  },
  {
   "cell_type": "code",
   "execution_count": 5,
   "metadata": {
    "ExecuteTime": {
     "end_time": "2021-03-08T09:04:08.739561Z",
     "start_time": "2021-03-08T09:04:08.735573Z"
    }
   },
   "outputs": [
    {
     "data": {
      "text/plain": [
       "1255"
      ]
     },
     "execution_count": 5,
     "metadata": {},
     "output_type": "execute_result"
    }
   ],
   "source": [
    "len(result)"
   ]
  },
  {
   "cell_type": "code",
   "execution_count": 6,
   "metadata": {
    "ExecuteTime": {
     "end_time": "2021-03-08T09:04:10.755839Z",
     "start_time": "2021-03-08T09:04:10.751849Z"
    },
    "collapsed": true
   },
   "outputs": [],
   "source": [
    "feature_names = list(sorted(filter(lambda k: k.startswith(\"original_\"), features[1])))"
   ]
  },
  {
   "cell_type": "code",
   "execution_count": 7,
   "metadata": {
    "ExecuteTime": {
     "end_time": "2021-03-08T09:04:12.875457Z",
     "start_time": "2021-03-08T09:04:12.872436Z"
    },
    "scrolled": true
   },
   "outputs": [
    {
     "data": {
      "text/plain": [
       "100"
      ]
     },
     "execution_count": 7,
     "metadata": {},
     "output_type": "execute_result"
    }
   ],
   "source": [
    "len(feature_names)"
   ]
  },
  {
   "cell_type": "code",
   "execution_count": 8,
   "metadata": {
    "ExecuteTime": {
     "end_time": "2021-03-08T09:04:15.411762Z",
     "start_time": "2021-03-08T09:04:15.407743Z"
    },
    "scrolled": true
   },
   "outputs": [
    {
     "data": {
      "text/plain": [
       "['original_firstorder_10Percentile',\n",
       " 'original_firstorder_90Percentile',\n",
       " 'original_firstorder_Energy',\n",
       " 'original_firstorder_Entropy',\n",
       " 'original_firstorder_InterquartileRange',\n",
       " 'original_firstorder_Kurtosis',\n",
       " 'original_firstorder_Maximum',\n",
       " 'original_firstorder_Mean',\n",
       " 'original_firstorder_MeanAbsoluteDeviation',\n",
       " 'original_firstorder_Median',\n",
       " 'original_firstorder_Minimum',\n",
       " 'original_firstorder_Range',\n",
       " 'original_firstorder_RobustMeanAbsoluteDeviation',\n",
       " 'original_firstorder_RootMeanSquared',\n",
       " 'original_firstorder_Skewness',\n",
       " 'original_firstorder_TotalEnergy',\n",
       " 'original_firstorder_Uniformity',\n",
       " 'original_firstorder_Variance',\n",
       " 'original_glcm_Autocorrelation',\n",
       " 'original_glcm_ClusterProminence',\n",
       " 'original_glcm_ClusterShade',\n",
       " 'original_glcm_ClusterTendency',\n",
       " 'original_glcm_Contrast',\n",
       " 'original_glcm_Correlation',\n",
       " 'original_glcm_DifferenceAverage',\n",
       " 'original_glcm_DifferenceEntropy',\n",
       " 'original_glcm_DifferenceVariance',\n",
       " 'original_glcm_Id',\n",
       " 'original_glcm_Idm',\n",
       " 'original_glcm_Idmn',\n",
       " 'original_glcm_Idn',\n",
       " 'original_glcm_Imc1',\n",
       " 'original_glcm_Imc2',\n",
       " 'original_glcm_InverseVariance',\n",
       " 'original_glcm_JointAverage',\n",
       " 'original_glcm_JointEnergy',\n",
       " 'original_glcm_JointEntropy',\n",
       " 'original_glcm_MaximumProbability',\n",
       " 'original_glcm_SumEntropy',\n",
       " 'original_glcm_SumSquares',\n",
       " 'original_gldm_DependenceEntropy',\n",
       " 'original_gldm_DependenceNonUniformity',\n",
       " 'original_gldm_DependenceNonUniformityNormalized',\n",
       " 'original_gldm_DependenceVariance',\n",
       " 'original_gldm_GrayLevelNonUniformity',\n",
       " 'original_gldm_GrayLevelVariance',\n",
       " 'original_gldm_HighGrayLevelEmphasis',\n",
       " 'original_gldm_LargeDependenceEmphasis',\n",
       " 'original_gldm_LargeDependenceHighGrayLevelEmphasis',\n",
       " 'original_gldm_LargeDependenceLowGrayLevelEmphasis',\n",
       " 'original_gldm_LowGrayLevelEmphasis',\n",
       " 'original_gldm_SmallDependenceEmphasis',\n",
       " 'original_gldm_SmallDependenceHighGrayLevelEmphasis',\n",
       " 'original_gldm_SmallDependenceLowGrayLevelEmphasis',\n",
       " 'original_glrlm_GrayLevelNonUniformity',\n",
       " 'original_glrlm_GrayLevelNonUniformityNormalized',\n",
       " 'original_glrlm_GrayLevelVariance',\n",
       " 'original_glrlm_HighGrayLevelRunEmphasis',\n",
       " 'original_glrlm_LongRunEmphasis',\n",
       " 'original_glrlm_LongRunHighGrayLevelEmphasis',\n",
       " 'original_glrlm_LongRunLowGrayLevelEmphasis',\n",
       " 'original_glrlm_LowGrayLevelRunEmphasis',\n",
       " 'original_glrlm_RunEntropy',\n",
       " 'original_glrlm_RunLengthNonUniformity',\n",
       " 'original_glrlm_RunLengthNonUniformityNormalized',\n",
       " 'original_glrlm_RunPercentage',\n",
       " 'original_glrlm_RunVariance',\n",
       " 'original_glrlm_ShortRunEmphasis',\n",
       " 'original_glrlm_ShortRunHighGrayLevelEmphasis',\n",
       " 'original_glrlm_ShortRunLowGrayLevelEmphasis',\n",
       " 'original_glszm_GrayLevelNonUniformity',\n",
       " 'original_glszm_GrayLevelNonUniformityNormalized',\n",
       " 'original_glszm_GrayLevelVariance',\n",
       " 'original_glszm_HighGrayLevelZoneEmphasis',\n",
       " 'original_glszm_LargeAreaEmphasis',\n",
       " 'original_glszm_LargeAreaHighGrayLevelEmphasis',\n",
       " 'original_glszm_LargeAreaLowGrayLevelEmphasis',\n",
       " 'original_glszm_LowGrayLevelZoneEmphasis',\n",
       " 'original_glszm_SizeZoneNonUniformity',\n",
       " 'original_glszm_SizeZoneNonUniformityNormalized',\n",
       " 'original_glszm_SmallAreaEmphasis',\n",
       " 'original_glszm_SmallAreaHighGrayLevelEmphasis',\n",
       " 'original_glszm_SmallAreaLowGrayLevelEmphasis',\n",
       " 'original_glszm_ZoneEntropy',\n",
       " 'original_glszm_ZonePercentage',\n",
       " 'original_glszm_ZoneVariance',\n",
       " 'original_shape_Elongation',\n",
       " 'original_shape_Flatness',\n",
       " 'original_shape_LeastAxisLength',\n",
       " 'original_shape_MajorAxisLength',\n",
       " 'original_shape_Maximum2DDiameterColumn',\n",
       " 'original_shape_Maximum2DDiameterRow',\n",
       " 'original_shape_Maximum2DDiameterSlice',\n",
       " 'original_shape_Maximum3DDiameter',\n",
       " 'original_shape_MeshVolume',\n",
       " 'original_shape_MinorAxisLength',\n",
       " 'original_shape_Sphericity',\n",
       " 'original_shape_SurfaceArea',\n",
       " 'original_shape_SurfaceVolumeRatio',\n",
       " 'original_shape_VoxelVolume']"
      ]
     },
     "execution_count": 8,
     "metadata": {},
     "output_type": "execute_result"
    }
   ],
   "source": [
    "feature_names[:]"
   ]
  },
  {
   "cell_type": "code",
   "execution_count": 9,
   "metadata": {
    "ExecuteTime": {
     "end_time": "2021-03-08T09:04:18.329776Z",
     "start_time": "2021-03-08T09:04:18.302818Z"
    },
    "collapsed": true
   },
   "outputs": [],
   "source": [
    "samples = np.zeros((len(features),len(feature_names)))\n",
    "for case_id in range(len(features)):\n",
    "    a = np.array([])\n",
    "    for feature_name in feature_names:\n",
    "        a = np.append(a, features[case_id][feature_name])\n",
    "    samples[case_id,:] = a\n",
    "    \n",
    "# May have NaNs\n",
    "samples = np.nan_to_num(samples)"
   ]
  },
  {
   "cell_type": "code",
   "execution_count": 10,
   "metadata": {
    "ExecuteTime": {
     "end_time": "2021-03-08T09:04:20.802678Z",
     "start_time": "2021-03-08T09:04:20.799687Z"
    },
    "scrolled": true
   },
   "outputs": [
    {
     "data": {
      "text/plain": [
       "(51, 100)"
      ]
     },
     "execution_count": 10,
     "metadata": {},
     "output_type": "execute_result"
    }
   ],
   "source": [
    "samples.shape"
   ]
  },
  {
   "cell_type": "code",
   "execution_count": 11,
   "metadata": {
    "ExecuteTime": {
     "end_time": "2021-03-08T09:04:22.797327Z",
     "start_time": "2021-03-08T09:04:22.793294Z"
    },
    "collapsed": true
   },
   "outputs": [],
   "source": [
    "df = pd.DataFrame(data=samples, columns=feature_names,index=None)"
   ]
  },
  {
   "cell_type": "code",
   "execution_count": 13,
   "metadata": {
    "ExecuteTime": {
     "end_time": "2021-03-08T09:04:30.495072Z",
     "start_time": "2021-03-08T09:04:30.409300Z"
    }
   },
   "outputs": [],
   "source": [
    "df.to_excel(r'F:\\Desktop\\vp.xlsx',index=None)"
   ]
  }
 ],
 "metadata": {
  "kernelspec": {
   "display_name": "Python 3 (ipykernel)",
   "language": "python",
   "name": "python3"
  },
  "language_info": {
   "codemirror_mode": {
    "name": "ipython",
    "version": 3
   },
   "file_extension": ".py",
   "mimetype": "text/x-python",
   "name": "python",
   "nbconvert_exporter": "python",
   "pygments_lexer": "ipython3",
   "version": "3.9.13"
  },
  "toc": {
   "base_numbering": 1,
   "nav_menu": {},
   "number_sections": true,
   "sideBar": true,
   "skip_h1_title": false,
   "title_cell": "Table of Contents",
   "title_sidebar": "Contents",
   "toc_cell": false,
   "toc_position": {},
   "toc_section_display": true,
   "toc_window_display": false
  }
 },
 "nbformat": 4,
 "nbformat_minor": 2
}
